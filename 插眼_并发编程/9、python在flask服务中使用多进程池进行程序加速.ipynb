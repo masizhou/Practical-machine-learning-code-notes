{
 "cells": [
  {
   "cell_type": "markdown",
   "id": "725267da",
   "metadata": {},
   "source": [
    "# 注意：多进程之间不能通信，所以在定义进程池的时候，需要定义在下面，而不是任意的位置都可以（线程池可以）"
   ]
  },
  {
   "cell_type": "code",
   "execution_count": 4,
   "id": "c410c926",
   "metadata": {},
   "outputs": [
    {
     "name": "stdout",
     "output_type": "stream",
     "text": [
      " * Serving Flask app \"__main__\" (lazy loading)\n",
      " * Environment: production\n",
      "   WARNING: This is a development server. Do not use it in a production deployment.\n",
      "   Use a production WSGI server instead.\n",
      " * Debug mode: off\n"
     ]
    },
    {
     "name": "stderr",
     "output_type": "stream",
     "text": [
      " * Running on http://127.0.0.1:5000/ (Press CTRL+C to quit)\n"
     ]
    }
   ],
   "source": [
    "import flask\n",
    "from concurrent.futures import ProcessPoolExecutor\n",
    "import math\n",
    "import json\n",
    "\n",
    "\n",
    "app = flask.Flask(__name__) # 定义一个flask对象\n",
    "\n",
    "\n",
    "def is_prime(n): # 求素数：cpu密集型\n",
    "    if n < 2:\n",
    "        return False\n",
    "    if n == 2:\n",
    "        return True\n",
    "    if n % 2 == 0:\n",
    "        return False\n",
    "    sqrt_n = int(math.floor(math.sqrt(n)))\n",
    "    for i in range(3, sqrt_n + 1, 2):\n",
    "        if n % i == 0:\n",
    "            return False\n",
    "    return True\n",
    "\n",
    "\n",
    "@app.route(\"/is_prime/<numbers>\")\n",
    "def api_is_prime(numbers):\n",
    "    number_list = [int(x) for x in numbers.split(\",\")]\n",
    "    results = process_pool.map(is_prime, number_list) # 返回结果为列表\n",
    "    return json.dumps(dict(zip(number_list, results))) # 使用zip组成对，然后用json组合成字典\n",
    "\n",
    "\n",
    "if __name__ == \"__main__\":\n",
    "    process_pool = ProcessPoolExecutor() # 这里和线程池不同，因为进程之间不能进行通信，所以必须要定义在下面，而不能是前面\n",
    "    app.run()"
   ]
  },
  {
   "cell_type": "code",
   "execution_count": null,
   "id": "245db9aa",
   "metadata": {},
   "outputs": [],
   "source": []
  }
 ],
 "metadata": {
  "kernelspec": {
   "display_name": "Python 3",
   "language": "python",
   "name": "python3"
  },
  "language_info": {
   "codemirror_mode": {
    "name": "ipython",
    "version": 3
   },
   "file_extension": ".py",
   "mimetype": "text/x-python",
   "name": "python",
   "nbconvert_exporter": "python",
   "pygments_lexer": "ipython3",
   "version": "3.8.8"
  }
 },
 "nbformat": 4,
 "nbformat_minor": 5
}
