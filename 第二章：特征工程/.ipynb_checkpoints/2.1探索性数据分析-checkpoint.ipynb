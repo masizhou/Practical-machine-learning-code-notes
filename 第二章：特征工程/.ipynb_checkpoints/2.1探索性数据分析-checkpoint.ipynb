{
 "cells": [
  {
   "cell_type": "markdown",
   "metadata": {},
   "source": [
    "# 2.1 以房价预测为例，探索性的数据分析\n",
    "主要学习数据分析的一些画图方法"
   ]
  },
  {
   "cell_type": "markdown",
   "metadata": {},
   "source": [
    "## 首先导入包和数据"
   ]
  },
  {
   "cell_type": "code",
   "execution_count": 2,
   "metadata": {},
   "outputs": [],
   "source": [
    "# !pip3 install seaborn pandas matplotlib numpy\n",
    "import numpy as np\n",
    "import pandas as pd\n",
    "import matplotlib.pyplot as plt\n",
    "import seaborn as sns # 提供了更多的画法\n",
    "import feather\n",
    "# 下面两行作用：设置成了svg文件格式，分辨率高。\n",
    "from IPython import display\n",
    "display.set_matplotlib_formats('svg')\n",
    "# Alternative to set svg for newer versions\n",
    "# import matplotlib_inline\n",
    "# matplotlib_inline.backend_inline.set_matplotlib_formats('svg')"
   ]
  },
  {
   "cell_type": "code",
   "execution_count": 3,
   "metadata": {},
   "outputs": [],
   "source": [
    "# data = pd.read_feather('data/house_sales.ftr')\n",
    "data = feather.read_dataframe('data/house_sales.ftr')"
   ]
  },
  {
   "cell_type": "markdown",
   "metadata": {},
   "source": [
    "## 查看数据的形状，并看看前几行长什么样"
   ]
  },
  {
   "cell_type": "code",
   "execution_count": 4,
   "metadata": {},
   "outputs": [
    {
     "data": {
      "text/plain": [
       "(164944, 1789)"
      ]
     },
     "execution_count": 4,
     "metadata": {},
     "output_type": "execute_result"
    }
   ],
   "source": [
    "data.shape"
   ]
  },
  {
   "cell_type": "code",
   "execution_count": 5,
   "metadata": {},
   "outputs": [
    {
     "data": {
      "text/html": [
       "<div>\n",
       "<style scoped>\n",
       "    .dataframe tbody tr th:only-of-type {\n",
       "        vertical-align: middle;\n",
       "    }\n",
       "\n",
       "    .dataframe tbody tr th {\n",
       "        vertical-align: top;\n",
       "    }\n",
       "\n",
       "    .dataframe thead th {\n",
       "        text-align: right;\n",
       "    }\n",
       "</style>\n",
       "<table border=\"1\" class=\"dataframe\">\n",
       "  <thead>\n",
       "    <tr style=\"text-align: right;\">\n",
       "      <th></th>\n",
       "      <th>Id</th>\n",
       "      <th>Address</th>\n",
       "      <th>Sold Price</th>\n",
       "      <th>Sold On</th>\n",
       "      <th>Summary</th>\n",
       "      <th>Type</th>\n",
       "      <th>Year built</th>\n",
       "      <th>Heating</th>\n",
       "      <th>Cooling</th>\n",
       "      <th>Parking</th>\n",
       "      <th>...</th>\n",
       "      <th>Well Disclosure</th>\n",
       "      <th>remodeled</th>\n",
       "      <th>DOH2</th>\n",
       "      <th>SerialX</th>\n",
       "      <th>Full Baths</th>\n",
       "      <th>Tax Legal Lot Number</th>\n",
       "      <th>Tax Legal Block Number</th>\n",
       "      <th>Tax Legal Tract Number</th>\n",
       "      <th>Building Name</th>\n",
       "      <th>Zip</th>\n",
       "    </tr>\n",
       "  </thead>\n",
       "  <tbody>\n",
       "    <tr>\n",
       "      <th>0</th>\n",
       "      <td>2080183300</td>\n",
       "      <td>11205 Monterey,</td>\n",
       "      <td>$2,000,000</td>\n",
       "      <td>01/31/20</td>\n",
       "      <td>11205 Monterey, San Martin, CA 95046 is a sing...</td>\n",
       "      <td>SingleFamily</td>\n",
       "      <td>No Data</td>\n",
       "      <td>No Data</td>\n",
       "      <td>No Data</td>\n",
       "      <td>0 spaces</td>\n",
       "      <td>...</td>\n",
       "      <td>None</td>\n",
       "      <td>None</td>\n",
       "      <td>None</td>\n",
       "      <td>None</td>\n",
       "      <td>None</td>\n",
       "      <td>None</td>\n",
       "      <td>None</td>\n",
       "      <td>None</td>\n",
       "      <td>None</td>\n",
       "      <td>95046</td>\n",
       "    </tr>\n",
       "    <tr>\n",
       "      <th>1</th>\n",
       "      <td>20926300</td>\n",
       "      <td>5281 Castle Rd,</td>\n",
       "      <td>$2,100,000</td>\n",
       "      <td>02/25/21</td>\n",
       "      <td>Spectacular Mountain and incredible L.A. City ...</td>\n",
       "      <td>SingleFamily</td>\n",
       "      <td>1951</td>\n",
       "      <td>Central</td>\n",
       "      <td>Central Air, Dual</td>\n",
       "      <td>Driveway, Driveway - Brick</td>\n",
       "      <td>...</td>\n",
       "      <td>None</td>\n",
       "      <td>None</td>\n",
       "      <td>None</td>\n",
       "      <td>None</td>\n",
       "      <td>None</td>\n",
       "      <td>None</td>\n",
       "      <td>None</td>\n",
       "      <td>None</td>\n",
       "      <td>None</td>\n",
       "      <td>91011</td>\n",
       "    </tr>\n",
       "    <tr>\n",
       "      <th>2</th>\n",
       "      <td>19595300</td>\n",
       "      <td>3581 Butcher Dr,</td>\n",
       "      <td>$1,125,000</td>\n",
       "      <td>11/06/19</td>\n",
       "      <td>Eichler Style home! with Santa Clara High! in ...</td>\n",
       "      <td>SingleFamily</td>\n",
       "      <td>1954</td>\n",
       "      <td>Central Forced Air - Gas</td>\n",
       "      <td>Central AC</td>\n",
       "      <td>Garage, Garage - Attached, Covered</td>\n",
       "      <td>...</td>\n",
       "      <td>None</td>\n",
       "      <td>None</td>\n",
       "      <td>None</td>\n",
       "      <td>None</td>\n",
       "      <td>None</td>\n",
       "      <td>None</td>\n",
       "      <td>None</td>\n",
       "      <td>None</td>\n",
       "      <td>None</td>\n",
       "      <td>95051</td>\n",
       "    </tr>\n",
       "    <tr>\n",
       "      <th>3</th>\n",
       "      <td>300472200</td>\n",
       "      <td>2021 N Milpitas Blvd,</td>\n",
       "      <td>$36,250,000</td>\n",
       "      <td>10/02/20</td>\n",
       "      <td>2021 N Milpitas Blvd, Milpitas, CA 95035 is a ...</td>\n",
       "      <td>Apartment</td>\n",
       "      <td>1989</td>\n",
       "      <td>Other</td>\n",
       "      <td>No Data</td>\n",
       "      <td>Mixed, Covered</td>\n",
       "      <td>...</td>\n",
       "      <td>None</td>\n",
       "      <td>None</td>\n",
       "      <td>None</td>\n",
       "      <td>None</td>\n",
       "      <td>None</td>\n",
       "      <td>None</td>\n",
       "      <td>None</td>\n",
       "      <td>None</td>\n",
       "      <td>None</td>\n",
       "      <td>95035</td>\n",
       "    </tr>\n",
       "    <tr>\n",
       "      <th>4</th>\n",
       "      <td>2074492000</td>\n",
       "      <td>LOT 4 Tool Box Spring Rd,</td>\n",
       "      <td>$140,000</td>\n",
       "      <td>10/19/20</td>\n",
       "      <td>Beautiful level lot  dotted with pine trees ro...</td>\n",
       "      <td>VacantLand</td>\n",
       "      <td>No Data</td>\n",
       "      <td>No Data</td>\n",
       "      <td>No Data</td>\n",
       "      <td>0 spaces</td>\n",
       "      <td>...</td>\n",
       "      <td>None</td>\n",
       "      <td>None</td>\n",
       "      <td>None</td>\n",
       "      <td>None</td>\n",
       "      <td>None</td>\n",
       "      <td>None</td>\n",
       "      <td>None</td>\n",
       "      <td>None</td>\n",
       "      <td>None</td>\n",
       "      <td>92561</td>\n",
       "    </tr>\n",
       "  </tbody>\n",
       "</table>\n",
       "<p>5 rows × 1789 columns</p>\n",
       "</div>"
      ],
      "text/plain": [
       "           Id                    Address   Sold Price   Sold On  \\\n",
       "0  2080183300            11205 Monterey,   $2,000,000  01/31/20   \n",
       "1    20926300            5281 Castle Rd,   $2,100,000  02/25/21   \n",
       "2    19595300           3581 Butcher Dr,   $1,125,000  11/06/19   \n",
       "3   300472200      2021 N Milpitas Blvd,  $36,250,000  10/02/20   \n",
       "4  2074492000  LOT 4 Tool Box Spring Rd,     $140,000  10/19/20   \n",
       "\n",
       "                                             Summary          Type Year built  \\\n",
       "0  11205 Monterey, San Martin, CA 95046 is a sing...  SingleFamily    No Data   \n",
       "1  Spectacular Mountain and incredible L.A. City ...  SingleFamily       1951   \n",
       "2  Eichler Style home! with Santa Clara High! in ...  SingleFamily       1954   \n",
       "3  2021 N Milpitas Blvd, Milpitas, CA 95035 is a ...     Apartment       1989   \n",
       "4  Beautiful level lot  dotted with pine trees ro...    VacantLand    No Data   \n",
       "\n",
       "                    Heating            Cooling  \\\n",
       "0                   No Data            No Data   \n",
       "1                   Central  Central Air, Dual   \n",
       "2  Central Forced Air - Gas         Central AC   \n",
       "3                     Other            No Data   \n",
       "4                   No Data            No Data   \n",
       "\n",
       "                              Parking  ...   Well Disclosure remodeled  DOH2  \\\n",
       "0                            0 spaces  ...              None      None  None   \n",
       "1          Driveway, Driveway - Brick  ...              None      None  None   \n",
       "2  Garage, Garage - Attached, Covered  ...              None      None  None   \n",
       "3                      Mixed, Covered  ...              None      None  None   \n",
       "4                            0 spaces  ...              None      None  None   \n",
       "\n",
       "  SerialX Full Baths Tax Legal Lot Number Tax Legal Block Number  \\\n",
       "0    None       None                 None                   None   \n",
       "1    None       None                 None                   None   \n",
       "2    None       None                 None                   None   \n",
       "3    None       None                 None                   None   \n",
       "4    None       None                 None                   None   \n",
       "\n",
       "  Tax Legal Tract Number Building Name    Zip  \n",
       "0                   None          None  95046  \n",
       "1                   None          None  91011  \n",
       "2                   None          None  95051  \n",
       "3                   None          None  95035  \n",
       "4                   None          None  92561  \n",
       "\n",
       "[5 rows x 1789 columns]"
      ]
     },
     "execution_count": 5,
     "metadata": {},
     "output_type": "execute_result"
    }
   ],
   "source": [
    "data.head()"
   ]
  },
  {
   "cell_type": "markdown",
   "metadata": {},
   "source": [
    "## 我们删除至少30%值为空的列，以简化我们的数据集"
   ]
  },
  {
   "cell_type": "code",
   "execution_count": 6,
   "metadata": {},
   "outputs": [
    {
     "data": {
      "text/plain": [
       "Index(['Id', 'Address', 'Sold Price', 'Sold On', 'Summary', 'Type',\n",
       "       'Year built', 'Heating', 'Cooling', 'Parking', 'Bedrooms', 'Bathrooms',\n",
       "       'Total interior livable area', 'Total spaces', 'Garage spaces',\n",
       "       'Home type', 'Region', 'Elementary School', 'Elementary School Score',\n",
       "       'Elementary School Distance', 'High School', 'High School Score',\n",
       "       'High School Distance', 'Heating features', 'Parking features',\n",
       "       'Lot size', 'Parcel number', 'Tax assessed value', 'Annual tax amount',\n",
       "       'Listed On', 'Listed Price', 'Zip'],\n",
       "      dtype='object')"
      ]
     },
     "execution_count": 6,
     "metadata": {},
     "output_type": "execute_result"
    }
   ],
   "source": [
    "null_sum = data.isnull().sum() # 统计每列空值的个数。要是统计每一行，则用data.isnull().sum(axis=1)\n",
    "data.columns[null_sum < len(data) * 0.3]  # 每一列 大于30%的值为空，则删除，其余的保留"
   ]
  },
  {
   "cell_type": "code",
   "execution_count": 7,
   "metadata": {},
   "outputs": [],
   "source": [
    "# 下面操作为：删除那些空值大于30%的列（在原数据上操作）\n",
    "data.drop(columns=data.columns[null_sum > len(data) * 0.3], inplace=True)"
   ]
  },
  {
   "cell_type": "markdown",
   "metadata": {},
   "source": [
    "# 接下来让我们检查下数据的类型是否正确\n",
    "发现所有的值都是object类型（字符串类型），而实际上有的是数字类型，比如房价等，因此这里一定要改变这些数据的类型"
   ]
  },
  {
   "cell_type": "code",
   "execution_count": 8,
   "metadata": {},
   "outputs": [
    {
     "data": {
      "text/plain": [
       "Id                             object\n",
       "Address                        object\n",
       "Sold Price                     object\n",
       "Sold On                        object\n",
       "Summary                        object\n",
       "Type                           object\n",
       "Year built                     object\n",
       "Heating                        object\n",
       "Cooling                        object\n",
       "Parking                        object\n",
       "Bedrooms                       object\n",
       "Bathrooms                      object\n",
       "Total interior livable area    object\n",
       "Total spaces                   object\n",
       "Garage spaces                  object\n",
       "Home type                      object\n",
       "Region                         object\n",
       "Elementary School              object\n",
       "Elementary School Score        object\n",
       "Elementary School Distance     object\n",
       "High School                    object\n",
       "High School Score              object\n",
       "High School Distance           object\n",
       "Heating features               object\n",
       "Parking features               object\n",
       "Lot size                       object\n",
       "Parcel number                  object\n",
       "Tax assessed value             object\n",
       "Annual tax amount              object\n",
       "Listed On                      object\n",
       "Listed Price                   object\n",
       "Zip                            object\n",
       "dtype: object"
      ]
     },
     "execution_count": 8,
     "metadata": {},
     "output_type": "execute_result"
    }
   ],
   "source": [
    "data.dtypes"
   ]
  },
  {
   "cell_type": "markdown",
   "metadata": {},
   "source": [
    "# 将货币从字符串格式（如$1,000,000）转换为浮点数。"
   ]
  },
  {
   "cell_type": "code",
   "execution_count": 9,
   "metadata": {},
   "outputs": [],
   "source": [
    "currency = ['Sold Price', 'Listed Price', 'Tax assessed value', 'Annual tax amount']\n",
    "# 下面针对这些列，使用了正则表达式来匹配，进而替换\n",
    "for c in currency:\n",
    "    data[c] = data[c].replace(\n",
    "        r'[$,-]', '', regex=True).replace( # 把$,-这三种字符全删除\n",
    "        r'^\\s*$', np.nan, regex=True).astype(float) # 空字符串，替换成nan"
   ]
  },
  {
   "cell_type": "markdown",
   "metadata": {},
   "source": [
    "# 也可以将面积从字符串格式（如1000平方英尺和1英亩）转换为浮点格式。"
   ]
  },
  {
   "cell_type": "code",
   "execution_count": 10,
   "metadata": {},
   "outputs": [],
   "source": [
    "areas = ['Total interior livable area', 'Lot size']\n",
    "for c in areas:\n",
    "    acres = data[c].str.contains('Acres') == True # 如果以Acres为单位，则设置为True\n",
    "    col = data[c].replace(r'\\b sqft\\b|\\b Acres\\b|\\b,\\b','', regex=True).astype(float) # 将sqft和Acres删除，类似于厘米等单位\n",
    "    col[acres] *= 43560 # vsqft和Acres之间的转换\n",
    "    data[c] = col"
   ]
  },
  {
   "cell_type": "markdown",
   "metadata": {},
   "source": [
    "# 将修建年份转换为整型"
   ]
  },
  {
   "cell_type": "code",
   "execution_count": 23,
   "metadata": {},
   "outputs": [],
   "source": [
    "for c in ['Id', 'Year built', 'Zip']:\n",
    "    col = data[c].replace(['No Data', None], 0, regex=True).astype(int) # 将'No Data' 和 None 全地换成0\n",
    "    data[c] = col"
   ]
  },
  {
   "cell_type": "markdown",
   "metadata": {},
   "source": [
    "# 将所有是数值型的都转换下"
   ]
  },
  {
   "cell_type": "code",
   "execution_count": 24,
   "metadata": {},
   "outputs": [],
   "source": [
    "for c in ['Bathrooms', 'Total spaces', 'Garage spaces', 'Elementary School Score', 'Elementary School Distance', 'High School Score', 'High School Distance']:\n",
    "    col = data[c].astype(float)\n",
    "    data[c] = col"
   ]
  },
  {
   "cell_type": "markdown",
   "metadata": {},
   "source": [
    "# 现在我们可以检查数字列的值。可以看到有几列的最小和最大值是没有意义的。"
   ]
  },
  {
   "cell_type": "code",
   "execution_count": 25,
   "metadata": {},
   "outputs": [
    {
     "data": {
      "text/html": [
       "<div>\n",
       "<style scoped>\n",
       "    .dataframe tbody tr th:only-of-type {\n",
       "        vertical-align: middle;\n",
       "    }\n",
       "\n",
       "    .dataframe tbody tr th {\n",
       "        vertical-align: top;\n",
       "    }\n",
       "\n",
       "    .dataframe thead th {\n",
       "        text-align: right;\n",
       "    }\n",
       "</style>\n",
       "<table border=\"1\" class=\"dataframe\">\n",
       "  <thead>\n",
       "    <tr style=\"text-align: right;\">\n",
       "      <th></th>\n",
       "      <th>Id</th>\n",
       "      <th>Sold Price</th>\n",
       "      <th>Year built</th>\n",
       "      <th>Bathrooms</th>\n",
       "      <th>Total interior livable area</th>\n",
       "      <th>Total spaces</th>\n",
       "      <th>Garage spaces</th>\n",
       "      <th>Elementary School Score</th>\n",
       "      <th>Elementary School Distance</th>\n",
       "      <th>High School Score</th>\n",
       "      <th>High School Distance</th>\n",
       "      <th>Lot size</th>\n",
       "      <th>Tax assessed value</th>\n",
       "      <th>Annual tax amount</th>\n",
       "      <th>Listed Price</th>\n",
       "      <th>Zip</th>\n",
       "      <th>Price per living sqft</th>\n",
       "    </tr>\n",
       "  </thead>\n",
       "  <tbody>\n",
       "    <tr>\n",
       "      <th>count</th>\n",
       "      <td>1.239440e+05</td>\n",
       "      <td>1.238810e+05</td>\n",
       "      <td>123944.000000</td>\n",
       "      <td>104547.000000</td>\n",
       "      <td>1.081720e+05</td>\n",
       "      <td>115749.000000</td>\n",
       "      <td>115749.000000</td>\n",
       "      <td>110072.000000</td>\n",
       "      <td>110342.000000</td>\n",
       "      <td>107281.000000</td>\n",
       "      <td>107844.000000</td>\n",
       "      <td>94845.000000</td>\n",
       "      <td>1.063450e+05</td>\n",
       "      <td>1.051560e+05</td>\n",
       "      <td>9.370200e+04</td>\n",
       "      <td>123944.000000</td>\n",
       "      <td>1.081220e+05</td>\n",
       "    </tr>\n",
       "    <tr>\n",
       "      <th>mean</th>\n",
       "      <td>3.159594e+08</td>\n",
       "      <td>1.087869e+06</td>\n",
       "      <td>1737.292414</td>\n",
       "      <td>2.196304</td>\n",
       "      <td>3.433823e+03</td>\n",
       "      <td>1.550199</td>\n",
       "      <td>1.470389</td>\n",
       "      <td>5.562986</td>\n",
       "      <td>0.968019</td>\n",
       "      <td>6.001202</td>\n",
       "      <td>2.058976</td>\n",
       "      <td>5247.545467</td>\n",
       "      <td>7.982490e+05</td>\n",
       "      <td>1.021741e+04</td>\n",
       "      <td>1.081679e+06</td>\n",
       "      <td>93111.526601</td>\n",
       "      <td>1.084016e+03</td>\n",
       "    </tr>\n",
       "    <tr>\n",
       "      <th>std</th>\n",
       "      <td>6.862987e+08</td>\n",
       "      <td>2.170767e+06</td>\n",
       "      <td>629.853489</td>\n",
       "      <td>1.397539</td>\n",
       "      <td>5.365378e+05</td>\n",
       "      <td>30.720873</td>\n",
       "      <td>30.711001</td>\n",
       "      <td>2.061631</td>\n",
       "      <td>2.453300</td>\n",
       "      <td>2.055106</td>\n",
       "      <td>3.297492</td>\n",
       "      <td>2354.979696</td>\n",
       "      <td>1.050448e+06</td>\n",
       "      <td>1.320286e+04</td>\n",
       "      <td>2.757548e+06</td>\n",
       "      <td>2170.572679</td>\n",
       "      <td>3.045256e+04</td>\n",
       "    </tr>\n",
       "    <tr>\n",
       "      <th>min</th>\n",
       "      <td>7.387732e+06</td>\n",
       "      <td>1.000000e+00</td>\n",
       "      <td>0.000000</td>\n",
       "      <td>0.000000</td>\n",
       "      <td>1.000000e+00</td>\n",
       "      <td>-26.000000</td>\n",
       "      <td>-26.000000</td>\n",
       "      <td>1.000000</td>\n",
       "      <td>0.000000</td>\n",
       "      <td>1.000000</td>\n",
       "      <td>0.000000</td>\n",
       "      <td>10.000000</td>\n",
       "      <td>0.000000e+00</td>\n",
       "      <td>0.000000e+00</td>\n",
       "      <td>1.000000e+00</td>\n",
       "      <td>85611.000000</td>\n",
       "      <td>8.136697e-04</td>\n",
       "    </tr>\n",
       "    <tr>\n",
       "      <th>25%</th>\n",
       "      <td>1.949497e+07</td>\n",
       "      <td>4.550000e+05</td>\n",
       "      <td>1925.000000</td>\n",
       "      <td>2.000000</td>\n",
       "      <td>1.151000e+03</td>\n",
       "      <td>0.000000</td>\n",
       "      <td>0.000000</td>\n",
       "      <td>4.000000</td>\n",
       "      <td>0.300000</td>\n",
       "      <td>5.000000</td>\n",
       "      <td>0.700000</td>\n",
       "      <td>3412.000000</td>\n",
       "      <td>2.747350e+05</td>\n",
       "      <td>3.808000e+03</td>\n",
       "      <td>5.150000e+05</td>\n",
       "      <td>90255.000000</td>\n",
       "      <td>3.484593e+02</td>\n",
       "    </tr>\n",
       "    <tr>\n",
       "      <th>50%</th>\n",
       "      <td>2.063364e+07</td>\n",
       "      <td>8.350000e+05</td>\n",
       "      <td>1958.000000</td>\n",
       "      <td>2.000000</td>\n",
       "      <td>1.504000e+03</td>\n",
       "      <td>1.000000</td>\n",
       "      <td>1.000000</td>\n",
       "      <td>6.000000</td>\n",
       "      <td>0.500000</td>\n",
       "      <td>6.000000</td>\n",
       "      <td>1.300000</td>\n",
       "      <td>5662.000000</td>\n",
       "      <td>5.916000e+05</td>\n",
       "      <td>7.819000e+03</td>\n",
       "      <td>8.590000e+05</td>\n",
       "      <td>94087.000000</td>\n",
       "      <td>5.858003e+02</td>\n",
       "    </tr>\n",
       "    <tr>\n",
       "      <th>75%</th>\n",
       "      <td>9.603660e+07</td>\n",
       "      <td>1.355000e+06</td>\n",
       "      <td>1986.000000</td>\n",
       "      <td>3.000000</td>\n",
       "      <td>1.998000e+03</td>\n",
       "      <td>2.000000</td>\n",
       "      <td>2.000000</td>\n",
       "      <td>7.000000</td>\n",
       "      <td>0.800000</td>\n",
       "      <td>7.000000</td>\n",
       "      <td>2.200000</td>\n",
       "      <td>6926.000000</td>\n",
       "      <td>1.040400e+06</td>\n",
       "      <td>1.333925e+04</td>\n",
       "      <td>1.349000e+06</td>\n",
       "      <td>95050.000000</td>\n",
       "      <td>8.716675e+02</td>\n",
       "    </tr>\n",
       "    <tr>\n",
       "      <th>max</th>\n",
       "      <td>2.147000e+09</td>\n",
       "      <td>5.150000e+08</td>\n",
       "      <td>9999.000000</td>\n",
       "      <td>256.000000</td>\n",
       "      <td>1.764164e+08</td>\n",
       "      <td>9999.000000</td>\n",
       "      <td>9999.000000</td>\n",
       "      <td>10.000000</td>\n",
       "      <td>76.400000</td>\n",
       "      <td>10.000000</td>\n",
       "      <td>76.500000</td>\n",
       "      <td>10000.000000</td>\n",
       "      <td>7.446000e+07</td>\n",
       "      <td>1.061020e+06</td>\n",
       "      <td>6.250000e+08</td>\n",
       "      <td>96155.000000</td>\n",
       "      <td>7.399500e+06</td>\n",
       "    </tr>\n",
       "  </tbody>\n",
       "</table>\n",
       "</div>"
      ],
      "text/plain": [
       "                 Id    Sold Price     Year built      Bathrooms  \\\n",
       "count  1.239440e+05  1.238810e+05  123944.000000  104547.000000   \n",
       "mean   3.159594e+08  1.087869e+06    1737.292414       2.196304   \n",
       "std    6.862987e+08  2.170767e+06     629.853489       1.397539   \n",
       "min    7.387732e+06  1.000000e+00       0.000000       0.000000   \n",
       "25%    1.949497e+07  4.550000e+05    1925.000000       2.000000   \n",
       "50%    2.063364e+07  8.350000e+05    1958.000000       2.000000   \n",
       "75%    9.603660e+07  1.355000e+06    1986.000000       3.000000   \n",
       "max    2.147000e+09  5.150000e+08    9999.000000     256.000000   \n",
       "\n",
       "       Total interior livable area   Total spaces  Garage spaces  \\\n",
       "count                 1.081720e+05  115749.000000  115749.000000   \n",
       "mean                  3.433823e+03       1.550199       1.470389   \n",
       "std                   5.365378e+05      30.720873      30.711001   \n",
       "min                   1.000000e+00     -26.000000     -26.000000   \n",
       "25%                   1.151000e+03       0.000000       0.000000   \n",
       "50%                   1.504000e+03       1.000000       1.000000   \n",
       "75%                   1.998000e+03       2.000000       2.000000   \n",
       "max                   1.764164e+08    9999.000000    9999.000000   \n",
       "\n",
       "       Elementary School Score  Elementary School Distance  High School Score  \\\n",
       "count            110072.000000               110342.000000      107281.000000   \n",
       "mean                  5.562986                    0.968019           6.001202   \n",
       "std                   2.061631                    2.453300           2.055106   \n",
       "min                   1.000000                    0.000000           1.000000   \n",
       "25%                   4.000000                    0.300000           5.000000   \n",
       "50%                   6.000000                    0.500000           6.000000   \n",
       "75%                   7.000000                    0.800000           7.000000   \n",
       "max                  10.000000                   76.400000          10.000000   \n",
       "\n",
       "       High School Distance      Lot size  Tax assessed value  \\\n",
       "count         107844.000000  94845.000000        1.063450e+05   \n",
       "mean               2.058976   5247.545467        7.982490e+05   \n",
       "std                3.297492   2354.979696        1.050448e+06   \n",
       "min                0.000000     10.000000        0.000000e+00   \n",
       "25%                0.700000   3412.000000        2.747350e+05   \n",
       "50%                1.300000   5662.000000        5.916000e+05   \n",
       "75%                2.200000   6926.000000        1.040400e+06   \n",
       "max               76.500000  10000.000000        7.446000e+07   \n",
       "\n",
       "       Annual tax amount  Listed Price            Zip  Price per living sqft  \n",
       "count       1.051560e+05  9.370200e+04  123944.000000           1.081220e+05  \n",
       "mean        1.021741e+04  1.081679e+06   93111.526601           1.084016e+03  \n",
       "std         1.320286e+04  2.757548e+06    2170.572679           3.045256e+04  \n",
       "min         0.000000e+00  1.000000e+00   85611.000000           8.136697e-04  \n",
       "25%         3.808000e+03  5.150000e+05   90255.000000           3.484593e+02  \n",
       "50%         7.819000e+03  8.590000e+05   94087.000000           5.858003e+02  \n",
       "75%         1.333925e+04  1.349000e+06   95050.000000           8.716675e+02  \n",
       "max         1.061020e+06  6.250000e+08   96155.000000           7.399500e+06  "
      ]
     },
     "execution_count": 25,
     "metadata": {},
     "output_type": "execute_result"
    }
   ],
   "source": [
    "data.describe()"
   ]
  },
  {
   "cell_type": "markdown",
   "metadata": {},
   "source": [
    "# 我们过滤掉那些居住面积太小或太大的房子，以便以后简化可视化。"
   ]
  },
  {
   "cell_type": "code",
   "execution_count": 26,
   "metadata": {},
   "outputs": [
    {
     "data": {
      "text/plain": [
       "0"
      ]
     },
     "execution_count": 26,
     "metadata": {},
     "output_type": "execute_result"
    }
   ],
   "source": [
    "abnormal = (data[areas[1]] < 10) | (data[areas[1]] > 1e4) # 小于10，或者大于1万\n",
    "data = data[~abnormal] # 小于10，或者大于1万去除掉，保留正常的\n",
    "sum(abnormal) # 看看不正常的有多少"
   ]
  },
  {
   "cell_type": "markdown",
   "metadata": {},
   "source": [
    "# 接下来检查一下 \"Sold Price\"的柱状图，这是我们想要预测的目标。"
   ]
  },
  {
   "cell_type": "code",
   "execution_count": 27,
   "metadata": {},
   "outputs": [
    {
     "data": {
      "image/png": "[encoded data removed]",
      "text/plain": [
       "<Figure size 432x288 with 1 Axes>"
      ]
     },
     "metadata": {
      "needs_background": "light"
     },
     "output_type": "display_data"
    }
   ],
   "source": [
    "ax = sns.histplot(np.log10(data['Sold Price'])) # 对价格做一个Log运算，因为价格差距比较大\n",
    "ax.set_xlim([3, 8])\n",
    "ax.set_xticks(range(3, 9))\n",
    "ax.set_xticklabels(['%.0e'%a for a in 10**ax.get_xticks()]);"
   ]
  },
  {
   "cell_type": "markdown",
   "metadata": {},
   "source": [
    "# 一所房子有不同的类型(如公寓，别墅等等)。以下是最主要的类型。"
   ]
  },
  {
   "cell_type": "code",
   "execution_count": 28,
   "metadata": {},
   "outputs": [
    {
     "data": {
      "text/plain": [
       "SingleFamily            74318\n",
       "Condo                   18749\n",
       "MultiFamily              6586\n",
       "VacantLand               6199\n",
       "Townhouse                5846\n",
       "Unknown                  5390\n",
       "MobileManufactured       2588\n",
       "Apartment                1416\n",
       "Cooperative               161\n",
       "Residential Lot            75\n",
       "Single Family              69\n",
       "Single Family Lot          56\n",
       "Acreage                    48\n",
       "2 Story                    39\n",
       "3 Story                    25\n",
       "Hi-Rise (9+), Luxury       21\n",
       "Condominium                19\n",
       "RESIDENTIAL                19\n",
       "Duplex                     19\n",
       "Mid-Rise (4-8)             17\n",
       "Name: Type, dtype: int64"
      ]
     },
     "execution_count": 28,
     "metadata": {},
     "output_type": "execute_result"
    }
   ],
   "source": [
    "data['Type'].value_counts()[0:20]"
   ]
  },
  {
   "cell_type": "markdown",
   "metadata": {},
   "source": [
    "# 不同房屋类型的价格密度。"
   ]
  },
  {
   "cell_type": "code",
   "execution_count": 29,
   "metadata": {},
   "outputs": [
    {
     "data": {
      "image/png": "[encoded data removed]",
      "text/plain": [
       "<Figure size 460x360 with 1 Axes>"
      ]
     },
     "metadata": {
      "needs_background": "light"
     },
     "output_type": "display_data"
    }
   ],
   "source": [
    "types = data['Type'].isin(['SingleFamily', 'Condo', 'MultiFamily', 'Townhouse']) # 如果在着四种类型里，则返回True，否则返回False\n",
    "sns.displot(pd.DataFrame({'Sold Price':np.log10(data[types]['Sold Price']), # data[types]就是返回types为True的那些值\n",
    "                          'Type':data[types]['Type']}),\n",
    "            x='Sold Price', hue='Type', kind='kde');"
   ]
  },
  {
   "cell_type": "markdown",
   "metadata": {},
   "source": [
    "# 另一个重要的衡量标准是每平方米的销售价格。让我们来看看不同房屋类型之间的差异。"
   ]
  },
  {
   "cell_type": "code",
   "execution_count": 30,
   "metadata": {},
   "outputs": [
    {
     "data": {
      "image/png": "[encoded data removed]",
      "text/plain": [
       "<Figure size 432x288 with 1 Axes>"
      ]
     },
     "metadata": {
      "needs_background": "light"
     },
     "output_type": "display_data"
    }
   ],
   "source": [
    "data['Price per living sqft'] = data['Sold Price'] / data['Total interior livable area']\n",
    "ax = sns.boxplot(x='Type', y='Price per living sqft', data=data[types], fliersize=0)\n",
    "ax.set_ylim([0, 2000]);"
   ]
  },
  {
   "cell_type": "markdown",
   "metadata": {},
   "source": [
    "# 我们知道位置会影响价格。让我们检查一下前20个邮政编码的价格。"
   ]
  },
  {
   "cell_type": "code",
   "execution_count": 31,
   "metadata": {},
   "outputs": [
    {
     "data": {
      "image/png": "[encoded data removed]",
      "text/plain": [
       "<Figure size 432x288 with 1 Axes>"
      ]
     },
     "metadata": {
      "needs_background": "light"
     },
     "output_type": "display_data"
    }
   ],
   "source": [
    "d = data[data['Zip'].isin(data['Zip'].value_counts()[:20].keys())] # 统计前20个编码，value_counts()就是计算每个编码的个数，然后从大到小排序\n",
    "ax = sns.boxplot(x='Zip', y='Price per living sqft', data=d, fliersize=0)\n",
    "ax.set_ylim([0, 2000])\n",
    "ax.set_xticklabels(ax.get_xticklabels(), rotation=90);"
   ]
  },
  {
   "cell_type": "markdown",
   "metadata": {},
   "source": [
    "# 最后，我们将几列的相关矩阵可视化。(其实就是看一下每个列和其他的列的相关程度如何)"
   ]
  },
  {
   "cell_type": "code",
   "execution_count": 40,
   "metadata": {},
   "outputs": [
    {
     "data": {
      "image/png": "[encoded data removed]",
      "text/plain": [
       "<Figure size 432x432 with 2 Axes>"
      ]
     },
     "metadata": {
      "needs_background": "light"
     },
     "output_type": "display_data"
    }
   ],
   "source": [
    "_, ax = plt.subplots(figsize=(6,6))\n",
    "columns = ['Sold Price', 'Listed Price', 'Annual tax amount', 'Price per living sqft', 'Elementary School Score', 'High School Score']\n",
    "sns.heatmap(data[columns].corr(),annot=True,cmap='RdYlGn', ax=ax); # .corr()就是计算相关程度"
   ]
  },
  {
   "cell_type": "code",
   "execution_count": 44,
   "metadata": {},
   "outputs": [
    {
     "data": {
      "text/html": [
       "<div>\n",
       "<style scoped>\n",
       "    .dataframe tbody tr th:only-of-type {\n",
       "        vertical-align: middle;\n",
       "    }\n",
       "\n",
       "    .dataframe tbody tr th {\n",
       "        vertical-align: top;\n",
       "    }\n",
       "\n",
       "    .dataframe thead th {\n",
       "        text-align: right;\n",
       "    }\n",
       "</style>\n",
       "<table border=\"1\" class=\"dataframe\">\n",
       "  <thead>\n",
       "    <tr style=\"text-align: right;\">\n",
       "      <th></th>\n",
       "      <th>Sold Price</th>\n",
       "      <th>Listed Price</th>\n",
       "      <th>Annual tax amount</th>\n",
       "      <th>Price per living sqft</th>\n",
       "      <th>Elementary School Score</th>\n",
       "      <th>High School Score</th>\n",
       "    </tr>\n",
       "  </thead>\n",
       "  <tbody>\n",
       "    <tr>\n",
       "      <th>Sold Price</th>\n",
       "      <td>1.000000</td>\n",
       "      <td>0.335303</td>\n",
       "      <td>0.496768</td>\n",
       "      <td>0.035631</td>\n",
       "      <td>0.161790</td>\n",
       "      <td>0.078689</td>\n",
       "    </tr>\n",
       "    <tr>\n",
       "      <th>Listed Price</th>\n",
       "      <td>0.335303</td>\n",
       "      <td>1.000000</td>\n",
       "      <td>0.253168</td>\n",
       "      <td>0.006619</td>\n",
       "      <td>0.100876</td>\n",
       "      <td>0.094291</td>\n",
       "    </tr>\n",
       "    <tr>\n",
       "      <th>Annual tax amount</th>\n",
       "      <td>0.496768</td>\n",
       "      <td>0.253168</td>\n",
       "      <td>1.000000</td>\n",
       "      <td>0.011342</td>\n",
       "      <td>0.194568</td>\n",
       "      <td>0.127455</td>\n",
       "    </tr>\n",
       "    <tr>\n",
       "      <th>Price per living sqft</th>\n",
       "      <td>0.035631</td>\n",
       "      <td>0.006619</td>\n",
       "      <td>0.011342</td>\n",
       "      <td>1.000000</td>\n",
       "      <td>0.002349</td>\n",
       "      <td>0.002692</td>\n",
       "    </tr>\n",
       "    <tr>\n",
       "      <th>Elementary School Score</th>\n",
       "      <td>0.161790</td>\n",
       "      <td>0.100876</td>\n",
       "      <td>0.194568</td>\n",
       "      <td>0.002349</td>\n",
       "      <td>1.000000</td>\n",
       "      <td>0.480662</td>\n",
       "    </tr>\n",
       "    <tr>\n",
       "      <th>High School Score</th>\n",
       "      <td>0.078689</td>\n",
       "      <td>0.094291</td>\n",
       "      <td>0.127455</td>\n",
       "      <td>0.002692</td>\n",
       "      <td>0.480662</td>\n",
       "      <td>1.000000</td>\n",
       "    </tr>\n",
       "  </tbody>\n",
       "</table>\n",
       "</div>"
      ],
      "text/plain": [
       "                         Sold Price  Listed Price  Annual tax amount  \\\n",
       "Sold Price                 1.000000      0.335303           0.496768   \n",
       "Listed Price               0.335303      1.000000           0.253168   \n",
       "Annual tax amount          0.496768      0.253168           1.000000   \n",
       "Price per living sqft      0.035631      0.006619           0.011342   \n",
       "Elementary School Score    0.161790      0.100876           0.194568   \n",
       "High School Score          0.078689      0.094291           0.127455   \n",
       "\n",
       "                         Price per living sqft  Elementary School Score  \\\n",
       "Sold Price                            0.035631                 0.161790   \n",
       "Listed Price                          0.006619                 0.100876   \n",
       "Annual tax amount                     0.011342                 0.194568   \n",
       "Price per living sqft                 1.000000                 0.002349   \n",
       "Elementary School Score               0.002349                 1.000000   \n",
       "High School Score                     0.002692                 0.480662   \n",
       "\n",
       "                         High School Score  \n",
       "Sold Price                        0.078689  \n",
       "Listed Price                      0.094291  \n",
       "Annual tax amount                 0.127455  \n",
       "Price per living sqft             0.002692  \n",
       "Elementary School Score           0.480662  \n",
       "High School Score                 1.000000  "
      ]
     },
     "execution_count": 44,
     "metadata": {},
     "output_type": "execute_result"
    }
   ],
   "source": [
    "# .corr()作用：计算不同列的相关程度\n",
    "data[columns].corr()"
   ]
  },
  {
   "cell_type": "code",
   "execution_count": null,
   "metadata": {},
   "outputs": [],
   "source": []
  }
 ],
 "metadata": {
  "kernelspec": {
   "display_name": "Python 3",
   "language": "python",
   "name": "python3"
  },
  "language_info": {
   "codemirror_mode": {
    "name": "ipython",
    "version": 3
   },
   "file_extension": ".py",
   "mimetype": "text/x-python",
   "name": "python",
   "nbconvert_exporter": "python",
   "pygments_lexer": "ipython3",
   "version": "3.8.8"
  }
 },
 "nbformat": 4,
 "nbformat_minor": 4
}
